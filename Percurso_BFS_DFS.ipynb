{
  "nbformat": 4,
  "nbformat_minor": 0,
  "metadata": {
    "colab": {
      "name": "Percurso BFS_DFS.ipynb",
      "provenance": [],
      "collapsed_sections": []
    },
    "kernelspec": {
      "name": "python3",
      "display_name": "Python 3"
    },
    "language_info": {
      "name": "python"
    }
  },
  "cells": [
    {
      "cell_type": "code",
      "metadata": {
        "id": "K810vOjizod_"
      },
      "source": [
        "from collections import defaultdict, deque\n",
        "\n",
        "#tranformar uma lista em dicionário\n",
        "#pego uma chave depois no seu valor posso add uma lista de vértices"
      ],
      "execution_count": null,
      "outputs": []
    },
    {
      "cell_type": "code",
      "metadata": {
        "id": "5l3PIYzX0G72"
      },
      "source": [
        "class Graph:\n",
        "    def __init__(self):\n",
        "        self.graph = defaultdict(list) #criando o dic pra add lista\n",
        "\n",
        "    def addAresta(self, u, v):\n",
        "        self.graph[u].append(v) #o meu vértice U tem aresta com o V, faço isso como se fosse uma lista\n"
      ],
      "execution_count": null,
      "outputs": []
    },
    {
      "cell_type": "code",
      "metadata": {
        "colab": {
          "base_uri": "https://localhost:8080/"
        },
        "id": "Onjpsh5K3wH1",
        "outputId": "4ba9aedb-a320-401a-a5ab-3b0665d6bafb"
      },
      "source": [
        "def bfs(graph, node): #passa o grafo e o nó que quero iniciar, se for árvore sempre é da raiz\n",
        "    visitado, fila = set(), deque(node) #armazena os nós visistados em um set pq ele n aceita valores repetidos, assim só visito um nó por vez\n",
        "    #fila será um deque do nó \n",
        "    visitado.add(node) #já adiciono o nó que eu partir\n",
        "\n",
        "    while fila: #enquanto tiver elementos na minha fila não percorridos\n",
        "        vertice = fila.popleft() #tira o primeiro da lista e mostra ele\n",
        "        print(vertice)\n",
        "\n",
        "        for vizinho in graph[vertice]: #vou para os valores do meu nó, os filhos dele\n",
        "            if vizinho not in visitado: #eles já foram visitados?\n",
        "                visitado.add(vizinho) #add nos visitados\n",
        "                fila.append(vizinho) #adiciono ele na lista para partir dele dps, percorrendo na ordem\n",
        "\n",
        "    return\n",
        "\n",
        "def dfs(visitado, graph, node): \n",
        "    if node not in visitado: #se ainda não percorri esse nó\n",
        "        print(node) #mostra ele\n",
        "        visitado.add(node)\n",
        "        for vizinho in graph[node]: #vou para os filhos dele\n",
        "            dfs(visitado, graph, vizinho) #faço o memso processo e qnd acabar, volto nos outros vértices\n",
        "\n",
        "    return\n",
        "\n",
        "if __name__ == '__main__': #abaixo daqui ele nao vai executar qnd chamarmos esse arqv para executar a função. é mais teste mesmo\n",
        "    g = Graph() #chamando a classe Graph\n",
        "\n",
        "    g.addAresta('A', 'B') #do A vai para o B\n",
        "    g.addAresta('A', 'C') #do A vai para o C\n",
        "    g.addAresta('B', 'D')\n",
        "    g.addAresta('B', 'E')\n",
        "    g.addAresta('C', 'F')\n",
        "    g.addAresta('D', '')\n",
        "    g.addAresta('E', 'F')\n",
        "    g.addAresta('F', '')\n",
        "\n",
        "    visitado = set()\n",
        "    \n",
        "\n",
        "    print(g.graph) #se fosse só o g ele iria mostrar só o endereço, com o graph ele chama a função construtora e printa\n",
        "    bfs(g.graph, 'A')\n",
        "\n",
        "    dfs(visitado, g.graph, 'A')"
      ],
      "execution_count": null,
      "outputs": [
        {
          "output_type": "stream",
          "name": "stdout",
          "text": [
            "defaultdict(<class 'list'>, {'A': ['B', 'C'], 'B': ['D', 'E'], 'C': ['F'], 'D': [''], 'E': ['F'], 'F': ['']})\n",
            "A\n",
            "B\n",
            "C\n",
            "D\n",
            "E\n",
            "F\n",
            "\n",
            "A\n",
            "B\n",
            "D\n",
            "\n",
            "E\n",
            "F\n",
            "C\n"
          ]
        }
      ]
    }
  ]
}